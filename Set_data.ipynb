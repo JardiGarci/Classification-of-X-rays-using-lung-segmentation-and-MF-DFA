{
 "cells": [
  {
   "cell_type": "markdown",
   "metadata": {},
   "source": [
    "# Data 1\n",
    "\n",
    "- Normal:        \n",
    "    - Shezen_Normal y Tuberculosis\n",
    "    - 326 muestras\n",
    "- Covid:   \n",
    "    - Mendeley COVID CXR Images\n",
    "    - 326 muestras\n",
    "\n",
    "- Datos de entrenamiento : 80% \n",
    "- Datos de evaluación : 20% \n"
   ]
  },
  {
   "cell_type": "code",
   "execution_count": 4,
   "metadata": {},
   "outputs": [
    {
     "name": "stdout",
     "output_type": "stream",
     "text": [
      "     Data_1\n",
      " Normal cases : 326\n",
      " Covid cases : 326\n",
      "Se han guardados las direcciones en Data\\Set_Database\\Data_1\n"
     ]
    }
   ],
   "source": [
    "import pandas as pd\n",
    "import os\n",
    "import numpy as np\n",
    "database_name = 'Data_1'\n",
    "\n",
    "#  Radiografías de pacientes normales\n",
    "path_normal = 'Data\\\\Data_sources\\\\Shezen_Normal y Tuberculosis\\\\shenzhen_metadata.csv'\n",
    "path_images = 'Data\\Data_sources\\Shezen_Normal y Tuberculosis\\images\\images'\n",
    "data = pd.read_csv(path_normal)\n",
    "normal_ids = data['study_id'][data['findings'] == 'normal']. values\n",
    "normal_ids = [os.path.join(path_images, id) for id in normal_ids]\n",
    "np.random.shuffle(normal_ids)\n",
    "\n",
    "# Radiografía de pacientes con Covid 19\n",
    "paht_covid = 'Data\\\\Data_sources\\\\A dataset of COVID-19 x-ray chest images\\\\Mendeley COVID CXR Images'\n",
    "covid_ids = [os.path.join(paht_covid, id) for id in os.listdir(paht_covid)]\n",
    "np.random.shuffle(covid_ids)\n",
    "\n",
    "min_val = np.min([len(normal_ids),len(covid_ids)])\n",
    "\n",
    "normal_ids = normal_ids[:min_val]\n",
    "covid_ids = covid_ids[:min_val]\n",
    "\n",
    "print(f'     {database_name}')\n",
    "print(f' Normal cases : {len(normal_ids)}')\n",
    "print(f' Covid cases : {len(covid_ids)}')\n",
    "\n",
    "porcent_train = 0.8\n",
    "n_train = int(porcent_train * min_val)\n",
    "\n",
    "train_ids = []\n",
    "for id_normal, id_covid in zip(normal_ids[:n_train], covid_ids[:n_train]):\n",
    "    train_ids.append([id_normal,'Normal'])\n",
    "    train_ids.append([id_covid,'Covid'])\n",
    "\n",
    "test_ids = []\n",
    "for id_normal, id_covid in zip(normal_ids[n_train:], covid_ids[n_train:]):\n",
    "    test_ids.append([id_normal,'Normal'])\n",
    "    test_ids.append([id_covid,'Covid'])\n",
    "\n",
    "\n",
    "np.random.shuffle(train_ids)\n",
    "np.random.shuffle(test_ids)\n",
    "\n",
    "name_folder = 'Set_Database'\n",
    "name_folder = os.path.join('Data',name_folder)\n",
    "os.makedirs(name_folder, exist_ok=True)\n",
    "path_database = os.path.join(name_folder,database_name)\n",
    "np.savez(path_database,train = np.array(train_ids), test = np.array(test_ids))\n",
    "\n",
    "print(f\"Se han guardados las direcciones en {path_database}\")"
   ]
  },
  {
   "cell_type": "markdown",
   "metadata": {},
   "source": [
    "## Data 2"
   ]
  },
  {
   "cell_type": "code",
   "execution_count": 2,
   "metadata": {},
   "outputs": [
    {
     "name": "stdout",
     "output_type": "stream",
     "text": [
      "     Data_2\n",
      " Normal cases : 326\n",
      " Covid cases : 326\n",
      "Se han guardados las direcciones en Data\\Set_Database\\Data_2\n"
     ]
    }
   ],
   "source": [
    "import pandas as pd\n",
    "import os\n",
    "import numpy as np\n",
    "database_name = 'Data_2'\n",
    "\n",
    "#  Radiografías de pacientes normales\n",
    "path_normal = 'Data\\\\Data_sources\\\\Shezen_Normal y Tuberculosis\\\\shenzhen_metadata.csv'\n",
    "path_images = 'Data\\Data_sources\\Shezen_Normal y Tuberculosis\\images\\images'\n",
    "data = pd.read_csv(path_normal)\n",
    "normal_ids = data['study_id'][data['findings'] == 'normal']. values\n",
    "normal_ids = [os.path.join(path_images, id) for id in normal_ids]\n",
    "np.random.shuffle(normal_ids)\n",
    "\n",
    "# Radiografía de pacientes con Covid 19\n",
    "paht_covid = 'Data\\\\Data_sources\\\\A dataset of COVID-19 x-ray chest images\\\\Mendeley COVID CXR Images'\n",
    "covid_ids = [os.path.join(paht_covid, id) for id in os.listdir(paht_covid)]\n",
    "np.random.shuffle(covid_ids)\n",
    "\n",
    "min_val = np.min([len(normal_ids),len(covid_ids)])\n",
    "\n",
    "normal_ids = normal_ids[:min_val]\n",
    "covid_ids = covid_ids[:min_val]\n",
    "\n",
    "print(f'     {database_name}')\n",
    "print(f' Normal cases : {len(normal_ids)}')\n",
    "print(f' Covid cases : {len(covid_ids)}')\n",
    "\n",
    "ids = []\n",
    "for id_normal, id_covid in zip(normal_ids, covid_ids):\n",
    "    ids.append([id_normal,'Normal'])\n",
    "    ids.append([id_covid,'Covid'])\n",
    "\n",
    "name_folder = 'Set_Database'\n",
    "name_folder = os.path.join('Data',name_folder)\n",
    "os.makedirs(name_folder, exist_ok=True)\n",
    "path_database = os.path.join(name_folder,database_name)\n",
    "np.savez(path_database, ids = np.array(ids))\n",
    "\n",
    "print(f\"Se han guardados las direcciones en {path_database}\")"
   ]
  }
 ],
 "metadata": {
  "kernelspec": {
   "display_name": "tf",
   "language": "python",
   "name": "python3"
  },
  "language_info": {
   "codemirror_mode": {
    "name": "ipython",
    "version": 3
   },
   "file_extension": ".py",
   "mimetype": "text/x-python",
   "name": "python",
   "nbconvert_exporter": "python",
   "pygments_lexer": "ipython3",
   "version": "3.9.18"
  }
 },
 "nbformat": 4,
 "nbformat_minor": 2
}
